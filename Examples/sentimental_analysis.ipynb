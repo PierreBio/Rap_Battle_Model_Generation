{
 "cells": [
  {
   "cell_type": "markdown",
   "metadata": {},
   "source": [
    "# TP : Sentiment analysis on IMDB movie reviews"
   ]
  },
  {
   "cell_type": "markdown",
   "metadata": {},
   "source": [
    "## Objectives\n",
    "\n",
    "1. Implement a simple way to represent text data - Bag of words\n",
    "2. Implement a basic statistical learning model - Bayesian Naive\n",
    "3. Use these representations and this model for a sentiment analysis task.\n",
    "4. Implement different ways of obtaining dense representations of the same data\n",
    "5. Use a logistic regression model to train a classifier on these new representations."
   ]
  },
  {
   "cell_type": "markdown",
   "metadata": {},
   "source": [
    "## Necessary dependancies\n",
    "\n",
    "We will need the following packages:\n",
    "- The Machine Learning API Scikit-learn : http://scikit-learn.org/stable/install.html\n",
    "- The Natural Language Toolkit : http://www.nltk.org/install.html\n",
    "\n",
    "Both are available with Anaconda: https://anaconda.org/anaconda/nltk and https://anaconda.org/anaconda/scikit-learn"
   ]
  },
  {
   "cell_type": "code",
   "execution_count": null,
   "metadata": {},
   "outputs": [],
   "source": [
    "import os.path as op\n",
    "import re \n",
    "import numpy as np\n",
    "import matplotlib.pyplot as plt"
   ]
  },
  {
   "cell_type": "markdown",
   "metadata": {},
   "source": [
    "## Loading data\n",
    "\n",
    "We retrieve the textual data in the variable *texts*.\n",
    "\n",
    "The labels are retrieved in the variable $y$ - it contains *len(texts)* of them: $0$ indicates that the corresponding review is negative while $1$ indicates that it is positive."
   ]
  },
  {
   "cell_type": "code",
   "execution_count": null,
   "metadata": {},
   "outputs": [],
   "source": [
    "from glob import glob\n",
    "# We get the files from the path: ./data/imdb1/neg for negative reviews, and ./data/imdb1/pos for positive reviews\n",
    "filenames_neg = sorted(glob(op.join('.', 'data', 'imdb1', 'neg', '*.txt'))) # recupérer les fichiers\n",
    "filenames_pos = sorted(glob(op.join('.', 'data', 'imdb1', 'pos', '*.txt')))\n",
    "\n",
    "# Each files contains a review that consists in one line of text: we put this string in two lists, that we concatenate\n",
    "texts_neg = [open(f, encoding=\"utf8\").read() for f in filenames_neg] # recupérer le fichier d'un coup, on peut utiliser readlines()\n",
    "texts_pos = [open(f, encoding=\"utf8\").read() for f in filenames_pos]\n",
    "texts = texts_neg + texts_pos # concatener lists \n",
    "\n",
    "# The first half of the elements of the list are string of negative reviews, and the second half positive ones\n",
    "# We create the labels, as an array of [1,len(texts)], filled with 1, and change the first half to 0\n",
    "y = np.ones(len(texts), dtype=int) #première motié des zeros \n",
    "y[:len(texts_neg)] = 0.\n",
    "\n",
    "print(\"%d documents\" % len(texts))"
   ]
  },
  {
   "cell_type": "code",
   "execution_count": null,
   "metadata": {},
   "outputs": [],
   "source": [
    "# This number of documents may be high for most computers: we can select a fraction of them (here, one in k)\n",
    "# Use an even number to keep the same number of positive and negative reviews\n",
    "k = 100\n",
    "texts_reduced = texts[0::k]\n",
    "y_reduced = y [0::k]\n",
    "\n",
    "print('Number of documents:', len(texts_reduced))"
   ]
  },
  {
   "cell_type": "code",
   "execution_count": null,
   "metadata": {},
   "outputs": [],
   "source": [
    "from sklearn.model_selection import train_test_split\n",
    "train_texts_splt, val_texts, train_labels_splt, val_labels = train_test_split(texts_reduced, y_reduced, test_size=.2)\n",
    "# 20% de données "
   ]
  },
  {
   "cell_type": "code",
   "execution_count": null,
   "metadata": {},
   "outputs": [],
   "source": [
    "# P(c) frequanece dans classe \n",
    "# Hypothesebaysienne: probabilité de most parce que most sont indépendants entre eux\n",
    "# nombre de parameres = v * c (nombre vocabulaore ) * nombre classe s"
   ]
  },
  {
   "cell_type": "markdown",
   "metadata": {},
   "source": [
    "# Naive Bayesian \n",
    "\n",
    "## Main idea\n",
    "\n",
    "A movie review is in fact a list of words $s = (w_1, ..., w_N)$, and we try to find the associated class $c$ - which in our case may be $c = 0$ or $c = 1$. The objective is thus to find for each review $s$ the class $\\hat{c}$ maximizing the conditional probability **$P(c|s)$** : \n",
    "\n",
    "$$\\hat{c} = \\underset{c}{\\mathrm{argmax}}\\, P(c|s) = \\underset{c}{\\mathrm{argmax}}\\,\\frac{P(s|c)P(c)}{P(s)}$$\n",
    "\n",
    "**Hypothesis : P(s) is constant for each class** :\n",
    "\n",
    "$$\\hat{c} = \\underset{c}{\\mathrm{argmax}}\\,\\frac{P(s|c)P(c)}{P(s)} = \\underset{c}{\\mathrm{argmax}}\\,P(s|c)P(c)$$\n",
    "\n",
    "**Naive hypothesis : the variables (words) of a review are independant between themselves** : \n",
    "\n",
    "$$P(s|c) = P(w_1, ..., w_N|c)=\\Pi_{i=1..N}P(w_i|c)$$\n",
    "\n",
    "We will therefore be able to use the reviews at our disposal to **estimate the probabilities $P(w|c)$ for each word $w$ given the two classes $c$**. These reviews will allow us to learn how to evaluate the \"compatibility\" between words and classes."
   ]
  },
  {
   "cell_type": "markdown",
   "metadata": {},
   "source": [
    "## General view\n",
    "\n",
    "### Training: Estimating the probabilities\n",
    "\n",
    "For each word $w$ in the vocabulary $V$, $P(w|c)$ is the number of occurrences of $w$ in all reviews of class $c$, divided by the total number of occurrences in $c$. If we note $T(w,c)$ this number of occurrences, we get:\n",
    "\n",
    "$$P(w|c) = \\text{Frequency of }w\\text{ in }c = \\frac{T(w,c)}{\\sum_{w' \\in V} T(w',c)}$$\n",
    "\n",
    "### Test: Calculating scores\n",
    "\n",
    "To facilitate the calculations and to avoid *underflow* and approximation errors, we use the log-sum trick, and we pass the equation into log-probabilities : \n",
    "\n",
    "$$ \\hat{c} = \\underset{c}{\\mathrm{argmax}} P(c|s) = \\underset{c}{\\mathrm{argmax}} \\left[ \\mathrm{log}(P(c)) + \\sum_{i=1..N}log(P(w_i|c)) \\right] $$\n",
    "\n",
    "### Laplace smoothing\n",
    "\n",
    "A word that does not appear in a document has a probability of zero: this will cause issues with the logarithm. So we keep a very small part of the probability mass that we redistribute with the *Laplace smoothing*: \n",
    "\n",
    "$$P(w|c) = \\frac{T(w,c) + 1}{\\sum_{w' \\in V} (T(w',c) + 1)}$$\n",
    "\n",
    "There are other smoothing methods, generally suitable for other, more complex applications. "
   ]
  },
  {
   "cell_type": "code",
   "execution_count": null,
   "metadata": {},
   "outputs": [],
   "source": [
    "# sum est sur mot sachant neg , le problème est quand la prob est zero\n",
    "# tableau 2 * vocabumaire, faut vectorizer \n",
    "# calculer prob: vecteur phrase * log prob modèle \n",
    "# prob de phrase sachant : produit de matrices "
   ]
  },
  {
   "cell_type": "markdown",
   "metadata": {},
   "source": [
    "## Adapted representation of documents\n",
    "\n",
    "Our statistical model, like most models applied to textual data, uses counts of word occurrences in a document. Thus, a very convenient way to represent a document is to use a Bag-of-Words (BoW) vector, containing the counts of each word (regardless of their order of occurrence) in the document. \n",
    "\n",
    "If we consider the set of all the words appearing in our $T$ training documents, which we note $V$ (Vocabulary), we can create **an index**, which is a bijection associating to each $w$ word an integer, which will be its position in $V$. \n",
    "\n",
    "Thus, for a document extracted from a set of documents containing $|V|$ different words, a BoW representation will be a vector of size $|V|$, whose value at the index of a word $w$ will be its number of occurrences in the document. \n",
    "\n",
    "We can use the **CountVectorizer** class from scikit-learn to better understand:"
   ]
  },
  {
   "cell_type": "code",
   "execution_count": null,
   "metadata": {},
   "outputs": [],
   "source": [
    "from sklearn.feature_extraction.text import CountVectorizer # matrix de compte de données \n",
    "\n",
    "from sklearn.model_selection import cross_val_score\n",
    "from sklearn.base import BaseEstimator, ClassifierMixin"
   ]
  },
  {
   "cell_type": "code",
   "execution_count": null,
   "metadata": {},
   "outputs": [],
   "source": [
    "corpus = ['I walked down down the boulevard',\n",
    "          'I walked down the avenue',\n",
    "          'I ran down the boulevard',\n",
    "          'I walk down the city',\n",
    "          'I walk down the the avenue']\n",
    "vectorizer = CountVectorizer()\n",
    "\n",
    "Bow = vectorizer.fit_transform(corpus) # tockenizer les phrase , bag of word\n",
    "\n",
    "print(vectorizer.get_feature_names()) # obtenir les features, mots dans le vocabulaiore , il retire les mots cours (\"I\" disparait)\n",
    "Bow.toarray()"
   ]
  },
  {
   "cell_type": "markdown",
   "metadata": {},
   "source": [
    "We display the list containing the words ordered according to their index (Note that words of 2 characters or less are not counted)."
   ]
  },
  {
   "cell_type": "markdown",
   "metadata": {},
   "source": [
    "## Detail: training\n",
    "\n",
    "The idea is to extract the number of occurrences $T(w,c)$ for each word $w$ and each class $c$, which will make it possible to calculate the matrix of conditional probabilities $\\pmb{P}$ such that: $$\\pmb{P}_{w,c} = P(w|c)$$\n",
    "\n",
    "Note that the number of occurrences $T(w,c)$ can be easily obtained from the BoW representations of all documents !\n",
    "\n",
    "### Procedure:\n",
    "\n",
    "- Extract the vocabulary $V$ and counts $T(w,c)$ for each of the words $w$ and classes $c$, from a set of documents.\n",
    "- Calculate the a priori probabilities of the classes $P(c) = \\frac{\\sum_{w \\in V} T(w,c)}{\\sum_{c \\in C} \\sum_{w \\in V} T(w,c)}$\n",
    "- Calculate the conditional **smoothed** probabilities $P(w|c) = \\frac{T(w,c) + 1}{\\sum_{w' \\in V} (T(w',c) + 1)}$.\n",
    "\n",
    "## Detail: test\n",
    "\n",
    "We now know the conditional probabilities given by the $\\pmb{P}$ matrix. \n",
    "Now we must obtain $P(s|c)$ for the current document. This quantity is obtained using a simple calculation involving the BoW representation of the document and $\\pmb{P}$.\n",
    "\n",
    "### Procedure:\n",
    "\n",
    "- For each of the classes $c$,\n",
    "    - $Score(c) = \\log P(c)$\n",
    "    - For each word $w$ in the document to be tested:\n",
    "        - $Score(c) += \\log P(w|c)$\n",
    "- Return $argmax_{c \\in C} Score(c)$ "
   ]
  },
  {
   "cell_type": "code",
   "execution_count": null,
   "metadata": {},
   "outputs": [],
   "source": [
    "# preprocessing,: comment créer un bag of word"
   ]
  },
  {
   "cell_type": "markdown",
   "metadata": {},
   "source": [
    "## Preprocessing the text: get the BoW representations ##\n",
    "\n",
    "The first thing to do is to turn the review from a string into a list of words. The simplest method is to divide the string according to spaces with the command:\n",
    "``text.split()``\n",
    "\n",
    "But we must also be careful to remove special characters that may not have been cleaned up (such as HTML tags if the data was obtained from web pages). Since we're going to count words, we'll have to build a list of tokens appearing in our data. In our case, we'd like to reduce this list and make it uniform (ignore capitalization, punctuation, and the shortest words). \n",
    "We will therefore use a function adapted to our needs - but this is a job that we generally don't need to do ourselves, since there are many tools already adapted to most situations. \n",
    "For text cleansing, there are many scripts, based on different tools (regular expressions, for example) that allow you to prepare data. The division of the text into words and the management of punctuation is handled in a step called *tokenization*; if needed, a python package like NLTK contains many different *tokenizers*."
   ]
  },
  {
   "cell_type": "code",
   "execution_count": null,
   "metadata": {},
   "outputs": [],
   "source": [
    "# Careful, NLTK was the first well-documented NLP package, but it might be outdated for some uses.\n",
    "# Check the documentation !\n",
    "from nltk.tokenize import word_tokenize # pour obtenir tagging rapide, ploen de tokinzer , faut telechatder de donneés pour l'uilizer \n",
    "\n",
    "corpus_raw = \"I walked down down the boulevard. I walked down the avenue. I ran down the boulevard. I walk down the city. I walk down the the avenue.\"\n",
    "print(word_tokenize(corpus_raw))"
   ]
  },
  {
   "cell_type": "markdown",
   "metadata": {},
   "source": [
    "The next function takes as input a list of documents (each in the form of a string) and returns, as in the example using ``CountVectorizer``:\n",
    "- A vocabulary that associates, to each word encountered, an index\n",
    "- A matrix, with rows representing documents and columns representing words indexed by the vocabulary. In position $(i,j)$, one should have the number of occurrences of the word $j$ in the document $i$.\n",
    "\n",
    "The vocabulary, which was in the form of a *list* in the previous example, can be returned in the form of a *dictionary* whose keys are the words and values are the indices. Since the vocabulary lists the words in the corpus without worrying about their number of occurrences, it can be built up using a set (in python)."
   ]
  },
  {
   "cell_type": "code",
   "execution_count": null,
   "metadata": {},
   "outputs": [],
   "source": [
    "def count_words(texts, voc = None):\n",
    "    \"\"\"Vectorize text : return count of each word in the text snippets\n",
    "\n",
    "    Parameters\n",
    "    ----------\n",
    "    texts : list of str\n",
    "        The texts\n",
    "    Returns\n",
    "    -------\n",
    "    vocabulary : dict\n",
    "        A dictionary that points to an index in counts for each word.\n",
    "    counts : ndarray, shape (n_samples, n_features)\n",
    "        The counts of each word in each text.\n",
    "    \"\"\"\n",
    "    n_samples = len(texts)\n",
    "    if voc == None:\n",
    "        words = set() # set de vobaulaire\n",
    "        for text in texts:\n",
    "            words = words.union(set(word_tokenize(text))) # list of all words, unioni de l'ensemble et avec le text \n",
    "        n_features = len(words) # number of different words\n",
    "        vocabulary = dict(zip(words, range(n_features))) # vocab[wd] = index ; indexisation, associer à chaque mot un nombre (index), \n",
    "                                                            # correspances entre mot et dimension\n",
    "    else: # créer la matrix , vocabulaire associé aux données d'éntreé \n",
    "        vocabulary = voc\n",
    "        n_features = len(voc)\n",
    "    counts = np.zeros((n_samples, n_features))\n",
    "    for k, text in enumerate(texts): # enumeration a k for a text[k]\n",
    "        for w in word_tokenize(text):\n",
    "            if w in vocabulary:\n",
    "                counts[k][vocabulary[w]] += 1.\n",
    "    return vocabulary, counts"
   ]
  },
  {
   "cell_type": "code",
   "execution_count": null,
   "metadata": {},
   "outputs": [],
   "source": [
    "Voc, X = count_words(corpus)\n",
    "print(Voc)\n",
    "print(X)"
   ]
  },
  {
   "cell_type": "markdown",
   "metadata": {},
   "source": [
    "## Naive Bayesian \n",
    "\n",
    "\n",
    "```python\n",
    "def fit(self, X, y)\n",
    "``` \n",
    "**Training**: will learn a statistical model based on the representations $X$ corresponding to the labels $y$.\n",
    "Here, $X$ contains representations obtained as the output of ```count_words```. You can complete the function using the procedure detailed above. \n",
    "\n",
    "Note: the smoothing is not necessarily done with a $1$ - it can be done with a positive value $\\alpha$, which we can implement as an argument of the class \"NB\".\n",
    "\n",
    "```python\n",
    "def predict(self, X)\n",
    "```\n",
    "**Testing**: will return the labels predicted by the model for other representations $X$."
   ]
  },
  {
   "cell_type": "code",
   "execution_count": null,
   "metadata": {},
   "outputs": [],
   "source": [
    "class NB(BaseEstimator, ClassifierMixin):\n",
    "    # Les arguments de classe permettent l'héritage de classes de sklearn\n",
    "    def __init__(self, alpha=1.0 #hyperparametre):\n",
    "        # alpha est un paramètre pour le lissage: il correspond à la valeur ligne 10 de l'algorithme d'entraînement\n",
    "        # Dans l'algorithme d'entraînement, et comme valeur par défaut, on utilise alpha = 1\n",
    "        self.alpha = alpha\n",
    "\n",
    "    def fit(self, X, y): # calculer frequence relatrive \n",
    "        n_samples, n_features = X.shape\n",
    "\n",
    "        classes = np.unique(y) # all labels\n",
    "        n_classes = len(classes) # number of labels\n",
    "\n",
    "        prior = np.zeros(n_classes) # probabilité de classes\n",
    "\n",
    "        tct = np.zeros((n_classes, n_features)) # tableau qui contient probabilité contitionnelle \n",
    "        for k, c in enumerate(classes):\n",
    "            prior[k] = np.sum(y == c) / float(n_samples) # calcul probabilté de la classe\n",
    "            tct[k, :] = np.sum(X[y == c, :], axis=0) # number(words|classe)\n",
    "\n",
    "        alpha = self.alpha  # laplace smoothing / lissage de laplace\n",
    "        cond_prob = (tct + alpha) / np.sum(tct + alpha, axis=1)[:, None] # version normalizé \n",
    "\n",
    "        self.prior_ = prior\n",
    "        self.log_cond_prob_ = np.log(cond_prob)\n",
    "        return self\n",
    "\n",
    "    def predict(self, X):\n",
    "        n_classes = len(self.prior_)\n",
    "        scores = np.dot(X, self.log_cond_prob_.T) # produit scalaire entre bag of world et matricx conditionnelle \n",
    "        scores += np.log(self.prior_)[None, :]\n",
    "        return np.array([0, 1])[np.argmax(scores, axis=1)] # armax pour faire la prediction\n",
    "\n",
    "    def score(self, X, y):\n",
    "        return np.mean(self.predict(X) == y)"
   ]
  },
  {
   "cell_type": "markdown",
   "metadata": {},
   "source": [
    "## Experimentation\n",
    "\n",
    "We use half the data for training, and the other half for evaluation."
   ]
  },
  {
   "cell_type": "code",
   "execution_count": null,
   "metadata": {},
   "outputs": [],
   "source": [
    "voc, train_bow = count_words(train_texts_splt) # faut faire un peu de nottage, enlever mayuscules "
   ]
  },
  {
   "cell_type": "code",
   "execution_count": null,
   "metadata": {},
   "outputs": [],
   "source": [
    "_, val_bow = count_words(val_texts, voc)"
   ]
  },
  {
   "cell_type": "code",
   "execution_count": null,
   "metadata": {
    "scrolled": true
   },
   "outputs": [],
   "source": [
    "clf_nb = NB()\n",
    "clf_nb.fit(train_bow, train_labels_splt)\n",
    "val_pred = clf_nb.predict(val_bow)"
   ]
  },
  {
   "cell_type": "code",
   "execution_count": null,
   "metadata": {},
   "outputs": [],
   "source": [
    "from sklearn.metrics import confusion_matrix, ConfusionMatrixDisplay, classification_report"
   ]
  },
  {
   "cell_type": "code",
   "execution_count": null,
   "metadata": {},
   "outputs": [],
   "source": [
    "print(classification_report(val_labels, val_pred))\n",
    "cm = confusion_matrix(val_labels , val_pred, normalize='true')\n",
    "disp = ConfusionMatrixDisplay(confusion_matrix=cm, display_labels=[0,1])\n",
    "disp.plot()\n",
    "plt.show()\n",
    "# précision taux zero , vertical\n",
    "# recal c'est horizontal \n",
    "# F1 ration, ponderation des deux\n",
    "# macro average quand il y a une clsse plus requentes que les autres  "
   ]
  },
  {
   "cell_type": "markdown",
   "metadata": {},
   "source": [
    "## Evaluating performances: \n",
    "\n",
    "**What are the strengths and weaknesses of this system? How can they be remedied?**"
   ]
  },
  {
   "cell_type": "markdown",
   "metadata": {},
   "source": [
    "## To go further: "
   ]
  },
  {
   "cell_type": "code",
   "execution_count": null,
   "metadata": {},
   "outputs": [],
   "source": [
    "from sklearn.naive_bayes import MultinomialNB\n",
    "from sklearn.feature_extraction.text import TfidfTransformer\n",
    "from sklearn.pipeline import Pipeline"
   ]
  },
  {
   "cell_type": "markdown",
   "metadata": {},
   "source": [
    "## Scikit-learn"
   ]
  },
  {
   "cell_type": "markdown",
   "metadata": {},
   "source": [
    "### Improving representations\n",
    "\n",
    "We use the function \n",
    "```python\n",
    "CountVectorizer\n",
    "``` \n",
    "of scikit-learn. It will allow us to easily improve our BoW representations.\n",
    "\n",
    "#### Tf-idf:\n",
    "\n",
    "This is the product of the frequency of the term (TF) and its inverse frequency in documents (IDF).\n",
    "This method is usually used to measure the importance of a term $i$ in a document $j$ relative to the rest of the corpus, from a matrix of occurrences $ words \\times documents$. Thus, for a matrix $\\mathbf{T}$ of $|V|$ terms and $D$ documents:\n",
    "$$\\text{TF}(T, w, d) = \\frac{T_{w,d}}{\\sum_{w'=1}^{|V|} T_{w',d}} $$\n",
    "\n",
    "$$\\text{IDF}(T,w) = \\log \\left(\\frac{D}{|\\{d: T_{w,d} > 0\\}|} \\right)$$\n",
    "\n",
    "$$\\text{TF-IDF}(T, w, d) = \\text{TF}(T, w, d) \\cdot \\text{IDF}(T, w)$$\n",
    "\n",
    "It can be adapted to our case by considering that the context of the second word is the document. However, TF-IDF is generally better suited to low-density matrices, since it will penalize terms that appear in a large part of the documents. \n",
    "    \n",
    "#### Do not take into account words that are too frequent:\n",
    "\n",
    "We can use the argument\n",
    "```python\n",
    "max_df=1.0\n",
    "```\n",
    "to change the amount of words taken into account. \n",
    "\n",
    "#### Try different granularities:\n",
    "\n",
    "Rather than just counting words, we can count sequences of words - limited in size, of course. \n",
    "We call a sequence of $n$ words a $n$-gram: let's try using 2 and 3-grams (bi- and trigrams).\n",
    "We can also try to use character sequences instead of word sequences.\n",
    "\n",
    "We will be interested in the options \n",
    "```python\n",
    "analyze='word'\n",
    "```\n",
    "and \n",
    "```python\n",
    "ngram_range=(1, 2)\n",
    "```\n",
    "which we'll change to alter the granularity. "
   ]
  },
  {
   "cell_type": "code",
   "execution_count": null,
   "metadata": {
    "scrolled": true
   },
   "outputs": [],
   "source": [
    "## We can define a pipeline, with which we can experiment.\n",
    "\n",
    "pipeline_tf_idf = Pipeline([\n",
    "    ('vect', CountVectorizer(analyzer='word', max_df=0.7, stop_words=None)),\n",
    "    ('tfidf', TfidfTransformer()), # Améliorer la performance\n",
    "    ('clf', MultinomialNB()),\n",
    "])\n",
    "pipeline_tf_idf.fit(train_texts_splt, train_labels_splt)\n",
    "val_pred = pipeline_tf_idf.predict(val_texts)\n",
    "print(classification_report(val_labels, val_pred))"
   ]
  },
  {
   "cell_type": "markdown",
   "metadata": {},
   "source": [
    "### Natural Language Toolkit (NLTK)"
   ]
  },
  {
   "cell_type": "markdown",
   "metadata": {},
   "source": [
    "### Stemming \n",
    "\n",
    "Allows to go back to the root of a word: you can group different words around the same root, which facilitates generalization. Use:\n",
    "```python\n",
    "from nltk import SnowballStemmer\n",
    "```"
   ]
  },
  {
   "cell_type": "code",
   "execution_count": null,
   "metadata": {},
   "outputs": [],
   "source": [
    "from nltk import SnowballStemmer # ça coupe les mots, résuit le vocabulaire \n",
    "stemmer = SnowballStemmer(\"english\")"
   ]
  },
  {
   "cell_type": "markdown",
   "metadata": {},
   "source": [
    "#### Example:"
   ]
  },
  {
   "cell_type": "code",
   "execution_count": null,
   "metadata": {},
   "outputs": [],
   "source": [
    "words = ['singers', 'cat', 'generalization', 'philosophy', 'psychology', 'philosopher']\n",
    "for word in words:\n",
    "    print('word : %s ; stemmed : %s' %(word, stemmer.stem(word)))#.decode('utf-8'))))"
   ]
  },
  {
   "cell_type": "markdown",
   "metadata": {},
   "source": [
    "#### Application:"
   ]
  },
  {
   "cell_type": "code",
   "execution_count": null,
   "metadata": {},
   "outputs": [],
   "source": [
    "def stem(X): \n",
    "    X_stem = []\n",
    "    for text in X:\n",
    "        wordlist = []\n",
    "        for word in text.split(\" \"):\n",
    "            stemmword = stemmer.stem(word)#.decode('utf-8'))\n",
    "            wordlist.append(stemmword)\n",
    "        X_stem.append(' '.join(wordlist))\n",
    "    return X_stem"
   ]
  },
  {
   "cell_type": "code",
   "execution_count": null,
   "metadata": {},
   "outputs": [],
   "source": [
    "texts_stemmed = stem(train_texts_splt)\n",
    "val_texts_stemmed = stem(val_texts)\n",
    "voc, train_bow = count_words(texts_stemmed)\n",
    "_, val_bow = count_words(val_texts_stemmed, voc)"
   ]
  },
  {
   "cell_type": "code",
   "execution_count": null,
   "metadata": {},
   "outputs": [],
   "source": [
    "print(train_texts_splt[0])\n",
    "print(texts_stemmed[0])"
   ]
  },
  {
   "cell_type": "code",
   "execution_count": null,
   "metadata": {},
   "outputs": [],
   "source": [
    "clf_nb = NB()\n",
    "clf_nb.fit(train_bow, train_labels_splt)\n",
    "val_pred = clf_nb.predict(val_bow)\n",
    "\n",
    "print(classification_report(val_labels, val_pred))\n",
    "cm = confusion_matrix(val_labels , val_pred, normalize='true')\n",
    "disp = ConfusionMatrixDisplay(confusion_matrix=cm, display_labels=[0,1])\n",
    "disp.plot()\n",
    "plt.show()"
   ]
  },
  {
   "cell_type": "markdown",
   "metadata": {},
   "source": [
    "### Part of speech tags\n",
    "\n",
    "To generalize, we can also use the Part of Speech (POS) of the words, which will allow us to filter out information that is potentially not useful to the model. We will retrieve the POS of the words using the functions:\n",
    "```python\n",
    "from nltk import pos_tag, word_tokenize\n",
    "```"
   ]
  },
  {
   "cell_type": "code",
   "execution_count": null,
   "metadata": {},
   "outputs": [],
   "source": [
    "import nltk\n",
    "from nltk import pos_tag, word_tokenize"
   ]
  },
  {
   "cell_type": "markdown",
   "metadata": {},
   "source": [
    "#### Example:"
   ]
  },
  {
   "cell_type": "code",
   "execution_count": null,
   "metadata": {
    "scrolled": true
   },
   "outputs": [],
   "source": [
    "import nltk\n",
    "#nltk.download('punkt')\n",
    "#nltk.download('averaged_perceptron_tagger')\n",
    "\n",
    "pos_tag(word_tokenize(('I am Sam')))"
   ]
  },
  {
   "cell_type": "markdown",
   "metadata": {},
   "source": [
    "Details of POS tags meanings: https://stackoverflow.com/questions/15388831/what-are-all-possible-pos-tags-of-nltk"
   ]
  },
  {
   "cell_type": "markdown",
   "metadata": {},
   "source": [
    "#### Application:\n",
    "\n",
    "Only keeps nouns, adverbs, verbs and adjectives for our model. "
   ]
  },
  {
   "cell_type": "code",
   "execution_count": null,
   "metadata": {},
   "outputs": [],
   "source": [
    "def pos_tag_filter(X, good_tags=['NN', 'VB', 'ADJ', 'RB']):\n",
    "    X_pos = []\n",
    "    for text in X:\n",
    "        tags = nltk.pos_tag(nltk.word_tokenize(text))\n",
    "        X_pos.append(' '.join([w for w, t in tags if t in good_tags]))\n",
    "    return X_pos"
   ]
  },
  {
   "cell_type": "code",
   "execution_count": null,
   "metadata": {},
   "outputs": [],
   "source": [
    "texts_POS = pos_tag_filter(train_texts_splt)\n",
    "val_texts_POS = pos_tag_filter(val_texts)\n",
    "voc, train_bow = count_words(texts_stemmed)\n",
    "_, val_bow = count_words(val_texts_stemmed, voc)\n",
    "\n",
    "clf_nb = NB()\n",
    "clf_nb.fit(train_bow, train_labels_splt)\n",
    "val_pred = clf_nb.predict(val_bow)\n",
    "\n",
    "print(classification_report(val_labels, val_pred))\n",
    "cm = confusion_matrix(val_labels , val_pred, normalize='true')\n",
    "disp = ConfusionMatrixDisplay(confusion_matrix=cm, display_labels=[0,1])\n",
    "disp.plot()\n",
    "plt.show()"
   ]
  }
 ],
 "metadata": {
  "anaconda-cloud": {},
  "kernelspec": {
   "display_name": "Python 3 (ipykernel)",
   "language": "python",
   "name": "python3"
  },
  "language_info": {
   "codemirror_mode": {
    "name": "ipython",
    "version": 3
   },
   "file_extension": ".py",
   "mimetype": "text/x-python",
   "name": "python",
   "nbconvert_exporter": "python",
   "pygments_lexer": "ipython3",
   "version": "3.9.16"
  }
 },
 "nbformat": 4,
 "nbformat_minor": 1
}
